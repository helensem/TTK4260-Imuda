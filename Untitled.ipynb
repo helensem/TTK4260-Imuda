{
 "cells": [
  {
   "cell_type": "code",
   "execution_count": 1,
   "metadata": {},
   "outputs": [],
   "source": [
    "%matplotlib inline\n",
    "import numpy as np\n",
    "import matplotlib.pyplot as plt\n",
    "import random"
   ]
  },
  {
   "cell_type": "markdown",
   "metadata": {},
   "source": [
    "# **Multivariat Assignment 1**"
   ]
  },
  {
   "cell_type": "markdown",
   "metadata": {},
   "source": [
    "Task 1.1"
   ]
  },
  {
   "cell_type": "code",
   "execution_count": 2,
   "metadata": {},
   "outputs": [
    {
     "data": {
      "text/plain": [
       "Text(0.5, 1.0, 'Real model!!')"
      ]
     },
     "execution_count": 2,
     "metadata": {},
     "output_type": "execute_result"
    },
    {
     "data": {
      "image/png": "[encoded data removed]",
      "text/plain": [
       "<Figure size 432x288 with 1 Axes>"
      ]
     },
     "metadata": {
      "needs_background": "light"
     },
     "output_type": "display_data"
    }
   ],
   "source": [
    "def arbitrary_poly(params):\n",
    "    poly_model = lambda x: sum([p*(x**i) for i, p in enumerate(params)])\n",
    "    return poly_model\n",
    "\n",
    "theta = [1,5,2,4,2,1,-5]\n",
    "\n",
    "ymod = arbitrary_poly(theta)\n",
    "\n",
    "N = 20\n",
    "\n",
    "u = np.linspace(-1,1,N)\n",
    "\n",
    "yreal = ymod(u)\n",
    "\n",
    "plt.figure()\n",
    "plt.plot(u,yreal)\n",
    "plt.xlabel('u')\n",
    "plt.ylabel('y(u)')\n",
    "plt.title('Real model!!')"
   ]
  },
  {
   "cell_type": "markdown",
   "metadata": {},
   "source": [
    "Task 1.2"
   ]
  },
  {
   "cell_type": "code",
   "execution_count": 3,
   "metadata": {},
   "outputs": [
    {
     "data": {
      "text/plain": [
       "Text(0.5, 1.0, 'Real model!!')"
      ]
     },
     "execution_count": 3,
     "metadata": {},
     "output_type": "execute_result"
    },
    {
     "data": {
      "image/png": "[encoded data removed]",
      "text/plain": [
       "<Figure size 432x288 with 1 Axes>"
      ]
     },
     "metadata": {
      "needs_background": "light"
     },
     "output_type": "display_data"
    }
   ],
   "source": [
    "def chooseDist(dist1,dist2,alpha):\n",
    "    if(random.randint(0,1)>alpha):\n",
    "        return dist1\n",
    "    return dist2\n",
    "\n",
    "from scipy.stats import norm, laplace\n",
    "\n",
    "def genNoise(alpha,N,mean,scale,magnitude):\n",
    "    e = np.zeros(N)\n",
    "    for i in range(0,N):\n",
    "        dist = chooseDist(\"Gauss\",\"Laplace\",alpha)\n",
    "        if dist == \"Laplace\":\n",
    "            #pdf = laplace_pdf\n",
    "            pdf = laplace.pdf\n",
    "            e[i] = magnitude * np.random.laplace(mean, scale)\n",
    "        elif dist == \"Gauss\":\n",
    "            #pdf = gauss_pdf\n",
    "            pdf = norm.pdf\n",
    "            e[i] = magnitude * np.random.normal(mean, scale)\n",
    "        else:\n",
    "            raise Exception(\"Distribution not implemented, choose \\\"laplace\\\" or \\\"gauss\\\"\")\n",
    "    \n",
    "    return e\n",
    "\n",
    "\n",
    "alpha = 0.5\n",
    "\n",
    "mean = 0\n",
    "\n",
    "scale = 1\n",
    "\n",
    "magnitude = 1\n",
    "\n",
    "e = genNoise(alpha,N,mean,scale,magnitude)\n",
    "\n",
    "y = yreal + e\n",
    "\n",
    "\n",
    "plt.scatter(u,y)\n",
    "plt.plot(u,yreal)\n",
    "plt.xlabel('u')\n",
    "plt.ylabel('y(u)')\n",
    "plt.title('Real model!!')"
   ]
  },
  {
   "cell_type": "markdown",
   "metadata": {},
   "source": [
    "Task 1.3"
   ]
  },
  {
   "cell_type": "code",
   "execution_count": 4,
   "metadata": {},
   "outputs": [
    {
     "name": "stdout",
     "output_type": "stream",
     "text": [
      "data u :\n",
      "[[-1.        ]\n",
      " [-0.89473684]\n",
      " [-0.78947368]\n",
      " [-0.68421053]\n",
      " [-0.57894737]] \n",
      "\n",
      "data tensor [1, u, u^2, ... , u^n] :\n",
      "[[ 1.         -1.          1.         -1.          1.         -1.\n",
      "   1.        ]\n",
      " [ 1.         -0.89473684  0.80055402 -0.71628517  0.64088673 -0.57342497\n",
      "   0.51306445]\n",
      " [ 1.         -0.78947368  0.6232687  -0.49205424  0.38846387 -0.306682\n",
      "   0.24211737]\n",
      " [ 1.         -0.68421053  0.46814404 -0.32030908  0.21915885 -0.14995079\n",
      "   0.10259791]\n",
      " [ 1.         -0.57894737  0.33518006 -0.19405161  0.11234567 -0.06504223\n",
      "   0.03765603]]\n"
     ]
    }
   ],
   "source": [
    "# Matrix form\n",
    "u_tensor_0 = np.reshape(u,(N,1))\n",
    "print(f\"data u :\\n{u_tensor_0[0:5]} \\n\")\n",
    "\n",
    "ones_vec = np.ones((N,1))\n",
    "u_tensor = np.append(ones_vec, u_tensor_0, axis=1)\n",
    "\n",
    "for i in range(2,len(theta)):\n",
    "    u_tensor = np.append(u_tensor, np.power(u_tensor_0, i) ,axis=1)\n",
    "\n",
    "print(f\"data tensor [1, u, u^2, ... , u^n] :\\n{u_tensor[0:5,:]}\")"
   ]
  },
  {
   "cell_type": "markdown",
   "metadata": {},
   "source": [
    "Want to find $(u^T\\cdot u)^{-1}$"
   ]
  },
  {
   "cell_type": "code",
   "execution_count": 5,
   "metadata": {},
   "outputs": [],
   "source": [
    "u_transpose_dot_u = np.dot(u_tensor.T,u_tensor)\n",
    "u_transpose_dot_u_inv = np.linalg.inv(u_transpose_dot_u)"
   ]
  },
  {
   "cell_type": "markdown",
   "metadata": {},
   "source": [
    "Next step is to find $(u^T\\cdot y)$"
   ]
  },
  {
   "cell_type": "code",
   "execution_count": 6,
   "metadata": {},
   "outputs": [],
   "source": [
    "u_transpose_dot_y = np.dot(u_tensor.T,y)"
   ]
  },
  {
   "cell_type": "markdown",
   "metadata": {},
   "source": [
    "Now to the last, final, shit show of a step!!!! $\\hat{\\theta} = (u^T\\cdot u)^{-1}\\cdot(u^T\\cdot y)$"
   ]
  },
  {
   "cell_type": "code",
   "execution_count": 7,
   "metadata": {},
   "outputs": [
    {
     "name": "stdout",
     "output_type": "stream",
     "text": [
      "LS parameters:         ['1.39', '5.97', '2.34', '1.37', '-7.19', '4.26', '4.78']\n",
      "True model parameters: [1, 5, 2, 4, 2, 1, -5]\n",
      "[ 1.39028838  5.96810391  2.33618556  1.36900477 -7.19145995  4.26301236\n",
      "  4.7820776 ]\n",
      "[1.3902883827498869, 5.968103909912884, 2.336185558495231, 1.3690047721904648, -7.191459954859056, 4.263012356184163, 4.7820776039806105]\n"
     ]
    },
    {
     "data": {
      "text/plain": [
       "<matplotlib.legend.Legend at 0x17761aa60a0>"
      ]
     },
     "execution_count": 7,
     "metadata": {},
     "output_type": "execute_result"
    },
    {
     "data": {
      "image/png": "[encoded data removed]",
      "text/plain": [
       "<Figure size 432x288 with 1 Axes>"
      ]
     },
     "metadata": {
      "needs_background": "light"
     },
     "output_type": "display_data"
    }
   ],
   "source": [
    "est_params = np.dot(u_transpose_dot_u_inv,u_transpose_dot_y)\n",
    "\n",
    "est_params_rounded = [\"{:.2f}\".format(round(i, 2)) for i in est_params.tolist()]\n",
    "print(f\"LS parameters:         {est_params_rounded}\")\n",
    "print(f\"True model parameters: {theta}\")\n",
    "\n",
    "print(est_params)\n",
    "\n",
    "est_params = est_params.tolist()\n",
    "\n",
    "print(est_params)\n",
    "\n",
    "y_est = arbitrary_poly(est_params)\n",
    "\n",
    "plt.figure()\n",
    "plt.plot(u,yreal,label = \"Real modell\")\n",
    "plt.scatter(u,y, label = \"Measured data\")\n",
    "plt.plot(u,y_est(u),\"r--\",label = \"Estimated modell\")\n",
    "plt.ylabel('y(u)')\n",
    "plt.xlabel('u')\n",
    "plt.legend()"
   ]
  }
 ],
 "metadata": {
  "kernelspec": {
   "display_name": "Python 3",
   "language": "python",
   "name": "python3"
  },
  "language_info": {
   "codemirror_mode": {
    "name": "ipython",
    "version": 3
   },
   "file_extension": ".py",
   "mimetype": "text/x-python",
   "name": "python",
   "nbconvert_exporter": "python",
   "pygments_lexer": "ipython3",
   "version": "3.8.5"
  }
 },
 "nbformat": 4,
 "nbformat_minor": 4
}
